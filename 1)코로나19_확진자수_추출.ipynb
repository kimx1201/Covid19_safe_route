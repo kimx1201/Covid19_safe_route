{
  "nbformat": 4,
  "nbformat_minor": 0,
  "metadata": {
    "colab": {
      "name": "공공데이터포털_코로나19_확진자수 추출",
      "provenance": [],
      "collapsed_sections": [],
      "include_colab_link": true
    },
    "kernelspec": {
      "name": "python3",
      "display_name": "Python 3"
    }
  },
  "cells": [
    {
      "cell_type": "markdown",
      "metadata": {
        "id": "view-in-github",
        "colab_type": "text"
      },
      "source": [
        "<a href=\"https://colab.research.google.com/github/kimx1201/covid19_safe_route/blob/main/%EA%B3%B5%EA%B3%B5%EB%8D%B0%EC%9D%B4%ED%84%B0%ED%8F%AC%ED%84%B8_%EC%BD%94%EB%A1%9C%EB%82%9819_%ED%99%95%EC%A7%84%EC%9E%90%EC%88%98_%EC%B6%94%EC%B6%9C.ipynb\" target=\"_parent\"><img src=\"https://colab.research.google.com/assets/colab-badge.svg\" alt=\"Open In Colab\"/></a>"
      ]
    },
    {
      "cell_type": "markdown",
      "metadata": {
        "id": "p2sO3hX985g1"
      },
      "source": [
        "## 파이썬 X 코로나19 확진자수\n",
        "- 공공데이터포털 보건복지부_코로나19 감염_현황\n",
        "- https://www.data.go.kr/tcs/dss/selectApiDataDetailView.do?publicDataPk=15043376\n",
        "\n",
        "\n",
        "```\n",
        "공공데이터포털(data.go.kr)의 코로나19 데이터 설명\n",
        "```\n",
        "\n",
        "한글명 | 코드\n",
        "-------- | ----------\n",
        "확진자 수\t| DECIDE_CNT \n",
        "격리해제 수\t| CLEAR_CNT \n",
        "검사진행 수\t| EXAM_CNT \n",
        "사망자 수\t| DEATH_CNT \n",
        "치료중 환자 수 | CARE_CNT \n",
        "결과 음성 수\t| RESUTL_NEG_CNT \n",
        "누적 검사 수\t| ACC_EXAM_CNT \n",
        "누적 검사 완료 수\t| ACC_EXAM_COMP_CNT \n",
        "누적 환진률\t| ACC_DEF_RATE \n",
        "등록일시분초 |\tCREATE_DT \n",
        "수정일시분초\t| UPDATE_DT\n",
        "\n",
        "- requests : 데이터 받아오기\n",
        "- xmltodict : XML 데이터를 DataFrame으로 전환\n",
        "- DataFrame.diff() : 일별 누진 데이터를 일일 데이터로 변환\n"
      ]
    },
    {
      "cell_type": "code",
      "metadata": {
        "id": "MG56opI69Qqa"
      },
      "source": [
        "#pip install xmltodict"
      ],
      "execution_count": null,
      "outputs": []
    },
    {
      "cell_type": "code",
      "metadata": {
        "id": "Tn5r9vABd-7F"
      },
      "source": [
        "# -*- coding: utf-8 -*-\n",
        "import requests\n",
        "import xmltodict\n",
        "import time\n",
        "import pandas as pd "
      ],
      "execution_count": null,
      "outputs": []
    },
    {
      "cell_type": "markdown",
      "metadata": {
        "id": "Q03uiK4svLI2"
      },
      "source": [
        "**url로 데이터 받아오기**"
      ]
    },
    {
      "cell_type": "code",
      "metadata": {
        "id": "JVkb7XKFfQtR"
      },
      "source": [
        "url_base = \"http://openapi.data.go.kr/openapi/service/rest/Covid19/getCovid19InfStateJson\"\n",
        "url_serviceKey = \"uR4%2FB3Ln1d%2FHcZEuv1bHIrQi0MVc80eZX%2FhzR%2Fuqqi7469%2Bz%2BJ9SbS52J0%2FjoLxi4q0i9TfyppoY3nZf53PiXA%3D%3D\"\n",
        "url_pages = \"1000\" #페이지당열갯수\n",
        "url_start_date = \"20200101\" #시작날짜\n",
        "url_end_date = \"20210531\" #끝날짜\n",
        "url = url_base + \"?serviceKey=\" + url_serviceKey + \"&pageNo=1&numOfRows=\" + url_pages + \"&startCreateDt=\"+ url_start_date + \"&endCreateDt=\" + url_end_date"
      ],
      "execution_count": null,
      "outputs": []
    },
    {
      "cell_type": "code",
      "metadata": {
        "id": "k3LBZO5tuWnI"
      },
      "source": [
        "req = requests.get(url).content"
      ],
      "execution_count": null,
      "outputs": []
    },
    {
      "cell_type": "markdown",
      "metadata": {
        "id": "xfj7Uyiounyy"
      },
      "source": [
        "**XML to DataFrame**"
      ]
    },
    {
      "cell_type": "code",
      "metadata": {
        "id": "jNvl7VKofRhk"
      },
      "source": [
        "xmlObject = xmltodict.parse(req)\n",
        "dict_data = xmlObject['response']['body']['items']['item']"
      ],
      "execution_count": null,
      "outputs": []
    },
    {
      "cell_type": "code",
      "metadata": {
        "id": "f9c5l62xfiiR"
      },
      "source": [
        "df = pd.DataFrame(dict_data)"
      ],
      "execution_count": null,
      "outputs": []
    },
    {
      "cell_type": "code",
      "metadata": {
        "colab": {
          "base_uri": "https://localhost:8080/",
          "height": 309
        },
        "id": "zgUjlNPzYm5S",
        "outputId": "059de950-8a9e-498e-a003-28dc1b80a000"
      },
      "source": [
        "df.head()"
      ],
      "execution_count": null,
      "outputs": [
        {
          "output_type": "execute_result",
          "data": {
            "text/html": [
              "<div>\n",
              "<style scoped>\n",
              "    .dataframe tbody tr th:only-of-type {\n",
              "        vertical-align: middle;\n",
              "    }\n",
              "\n",
              "    .dataframe tbody tr th {\n",
              "        vertical-align: top;\n",
              "    }\n",
              "\n",
              "    .dataframe thead th {\n",
              "        text-align: right;\n",
              "    }\n",
              "</style>\n",
              "<table border=\"1\" class=\"dataframe\">\n",
              "  <thead>\n",
              "    <tr style=\"text-align: right;\">\n",
              "      <th></th>\n",
              "      <th>accDefRate</th>\n",
              "      <th>accExamCnt</th>\n",
              "      <th>accExamCompCnt</th>\n",
              "      <th>careCnt</th>\n",
              "      <th>clearCnt</th>\n",
              "      <th>createDt</th>\n",
              "      <th>deathCnt</th>\n",
              "      <th>decideCnt</th>\n",
              "      <th>examCnt</th>\n",
              "      <th>resutlNegCnt</th>\n",
              "      <th>seq</th>\n",
              "      <th>stateDt</th>\n",
              "      <th>stateTime</th>\n",
              "      <th>updateDt</th>\n",
              "    </tr>\n",
              "  </thead>\n",
              "  <tbody>\n",
              "    <tr>\n",
              "      <th>0</th>\n",
              "      <td>1.4568360166</td>\n",
              "      <td>9761158</td>\n",
              "      <td>9633205</td>\n",
              "      <td>7558</td>\n",
              "      <td>130823</td>\n",
              "      <td>2021-05-31 09:34:29.254</td>\n",
              "      <td>1959</td>\n",
              "      <td>140340</td>\n",
              "      <td>127953</td>\n",
              "      <td>9492865</td>\n",
              "      <td>528</td>\n",
              "      <td>20210531</td>\n",
              "      <td>00:00</td>\n",
              "      <td>null</td>\n",
              "    </tr>\n",
              "    <tr>\n",
              "      <th>1</th>\n",
              "      <td>1.4541964496</td>\n",
              "      <td>9747614</td>\n",
              "      <td>9621121</td>\n",
              "      <td>7572</td>\n",
              "      <td>130381</td>\n",
              "      <td>2021-05-30 09:24:39.384</td>\n",
              "      <td>1957</td>\n",
              "      <td>139910</td>\n",
              "      <td>126493</td>\n",
              "      <td>9481211</td>\n",
              "      <td>527</td>\n",
              "      <td>20210530</td>\n",
              "      <td>00:00</td>\n",
              "      <td>null</td>\n",
              "    </tr>\n",
              "    <tr>\n",
              "      <th>2</th>\n",
              "      <td>1.4509249463</td>\n",
              "      <td>9733591</td>\n",
              "      <td>9609801</td>\n",
              "      <td>7741</td>\n",
              "      <td>129739</td>\n",
              "      <td>2021-05-29 09:45:26.765</td>\n",
              "      <td>1951</td>\n",
              "      <td>139431</td>\n",
              "      <td>123790</td>\n",
              "      <td>9470370</td>\n",
              "      <td>526</td>\n",
              "      <td>20210529</td>\n",
              "      <td>00:00</td>\n",
              "      <td>null</td>\n",
              "    </tr>\n",
              "    <tr>\n",
              "      <th>3</th>\n",
              "      <td>1.4499377008</td>\n",
              "      <td>9702456</td>\n",
              "      <td>9579584</td>\n",
              "      <td>8193</td>\n",
              "      <td>128759</td>\n",
              "      <td>2021-05-28 09:34:29.553</td>\n",
              "      <td>1946</td>\n",
              "      <td>138898</td>\n",
              "      <td>122872</td>\n",
              "      <td>9440686</td>\n",
              "      <td>525</td>\n",
              "      <td>20210528</td>\n",
              "      <td>00:00</td>\n",
              "      <td>2021-05-29 09:47:35.466</td>\n",
              "    </tr>\n",
              "    <tr>\n",
              "      <th>4</th>\n",
              "      <td>1.4493399059</td>\n",
              "      <td>9665693</td>\n",
              "      <td>9543034</td>\n",
              "      <td>8188</td>\n",
              "      <td>128180</td>\n",
              "      <td>2021-05-27 09:39:43.099</td>\n",
              "      <td>1943</td>\n",
              "      <td>138311</td>\n",
              "      <td>122659</td>\n",
              "      <td>9404723</td>\n",
              "      <td>524</td>\n",
              "      <td>20210527</td>\n",
              "      <td>00:00</td>\n",
              "      <td>null</td>\n",
              "    </tr>\n",
              "  </tbody>\n",
              "</table>\n",
              "</div>"
            ],
            "text/plain": [
              "     accDefRate accExamCnt  ... stateTime                 updateDt\n",
              "0  1.4568360166    9761158  ...     00:00                     null\n",
              "1  1.4541964496    9747614  ...     00:00                     null\n",
              "2  1.4509249463    9733591  ...     00:00                     null\n",
              "3  1.4499377008    9702456  ...     00:00  2021-05-29 09:47:35.466\n",
              "4  1.4493399059    9665693  ...     00:00                     null\n",
              "\n",
              "[5 rows x 14 columns]"
            ]
          },
          "metadata": {
            "tags": []
          },
          "execution_count": 7
        }
      ]
    },
    {
      "cell_type": "code",
      "metadata": {
        "colab": {
          "base_uri": "https://localhost:8080/"
        },
        "id": "JzE26G3Ba9kf",
        "outputId": "f18745c3-b2d4-49ea-ed71-ce63beb6efc9"
      },
      "source": [
        "# df.dtypes\n",
        "df.info()"
      ],
      "execution_count": null,
      "outputs": [
        {
          "output_type": "stream",
          "text": [
            "<class 'pandas.core.frame.DataFrame'>\n",
            "RangeIndex: 487 entries, 0 to 486\n",
            "Data columns (total 14 columns):\n",
            " #   Column          Non-Null Count  Dtype \n",
            "---  ------          --------------  ----- \n",
            " 0   accDefRate      456 non-null    object\n",
            " 1   accExamCnt      456 non-null    object\n",
            " 2   accExamCompCnt  456 non-null    object\n",
            " 3   careCnt         455 non-null    object\n",
            " 4   clearCnt        487 non-null    object\n",
            " 5   createDt        487 non-null    object\n",
            " 6   deathCnt        487 non-null    object\n",
            " 7   decideCnt       487 non-null    object\n",
            " 8   examCnt         487 non-null    object\n",
            " 9   resutlNegCnt    456 non-null    object\n",
            " 10  seq             487 non-null    object\n",
            " 11  stateDt         487 non-null    object\n",
            " 12  stateTime       487 non-null    object\n",
            " 13  updateDt        487 non-null    object\n",
            "dtypes: object(14)\n",
            "memory usage: 53.4+ KB\n"
          ],
          "name": "stdout"
        }
      ]
    },
    {
      "cell_type": "code",
      "metadata": {
        "id": "914iLFUjjkfu"
      },
      "source": [
        "df = df.astype({'decideCnt' : 'int', 'examCnt' : 'int', 'deathCnt' : 'int'})"
      ],
      "execution_count": null,
      "outputs": []
    },
    {
      "cell_type": "code",
      "metadata": {
        "id": "5qveTpbkZ5cq"
      },
      "source": [
        "df = df.drop_duplicates(['stateDt']) # 중복제거: 하루에 2회 이상 중복 확진자 발표가 있을 경우 마지막 발표한 것으로 대체 "
      ],
      "execution_count": null,
      "outputs": []
    },
    {
      "cell_type": "code",
      "metadata": {
        "colab": {
          "base_uri": "https://localhost:8080/",
          "height": 309
        },
        "id": "A0GUx8biaG4g",
        "outputId": "be2a8cb9-e206-45a2-d8e8-427b7c81224f"
      },
      "source": [
        "df.head()"
      ],
      "execution_count": null,
      "outputs": [
        {
          "output_type": "execute_result",
          "data": {
            "text/html": [
              "<div>\n",
              "<style scoped>\n",
              "    .dataframe tbody tr th:only-of-type {\n",
              "        vertical-align: middle;\n",
              "    }\n",
              "\n",
              "    .dataframe tbody tr th {\n",
              "        vertical-align: top;\n",
              "    }\n",
              "\n",
              "    .dataframe thead th {\n",
              "        text-align: right;\n",
              "    }\n",
              "</style>\n",
              "<table border=\"1\" class=\"dataframe\">\n",
              "  <thead>\n",
              "    <tr style=\"text-align: right;\">\n",
              "      <th></th>\n",
              "      <th>accDefRate</th>\n",
              "      <th>accExamCnt</th>\n",
              "      <th>accExamCompCnt</th>\n",
              "      <th>careCnt</th>\n",
              "      <th>clearCnt</th>\n",
              "      <th>createDt</th>\n",
              "      <th>deathCnt</th>\n",
              "      <th>decideCnt</th>\n",
              "      <th>examCnt</th>\n",
              "      <th>resutlNegCnt</th>\n",
              "      <th>seq</th>\n",
              "      <th>stateDt</th>\n",
              "      <th>stateTime</th>\n",
              "      <th>updateDt</th>\n",
              "    </tr>\n",
              "  </thead>\n",
              "  <tbody>\n",
              "    <tr>\n",
              "      <th>0</th>\n",
              "      <td>1.4568360166</td>\n",
              "      <td>9761158</td>\n",
              "      <td>9633205</td>\n",
              "      <td>7558</td>\n",
              "      <td>130823</td>\n",
              "      <td>2021-05-31 09:34:29.254</td>\n",
              "      <td>1959</td>\n",
              "      <td>140340</td>\n",
              "      <td>127953</td>\n",
              "      <td>9492865</td>\n",
              "      <td>528</td>\n",
              "      <td>20210531</td>\n",
              "      <td>00:00</td>\n",
              "      <td>null</td>\n",
              "    </tr>\n",
              "    <tr>\n",
              "      <th>1</th>\n",
              "      <td>1.4541964496</td>\n",
              "      <td>9747614</td>\n",
              "      <td>9621121</td>\n",
              "      <td>7572</td>\n",
              "      <td>130381</td>\n",
              "      <td>2021-05-30 09:24:39.384</td>\n",
              "      <td>1957</td>\n",
              "      <td>139910</td>\n",
              "      <td>126493</td>\n",
              "      <td>9481211</td>\n",
              "      <td>527</td>\n",
              "      <td>20210530</td>\n",
              "      <td>00:00</td>\n",
              "      <td>null</td>\n",
              "    </tr>\n",
              "    <tr>\n",
              "      <th>2</th>\n",
              "      <td>1.4509249463</td>\n",
              "      <td>9733591</td>\n",
              "      <td>9609801</td>\n",
              "      <td>7741</td>\n",
              "      <td>129739</td>\n",
              "      <td>2021-05-29 09:45:26.765</td>\n",
              "      <td>1951</td>\n",
              "      <td>139431</td>\n",
              "      <td>123790</td>\n",
              "      <td>9470370</td>\n",
              "      <td>526</td>\n",
              "      <td>20210529</td>\n",
              "      <td>00:00</td>\n",
              "      <td>null</td>\n",
              "    </tr>\n",
              "    <tr>\n",
              "      <th>3</th>\n",
              "      <td>1.4499377008</td>\n",
              "      <td>9702456</td>\n",
              "      <td>9579584</td>\n",
              "      <td>8193</td>\n",
              "      <td>128759</td>\n",
              "      <td>2021-05-28 09:34:29.553</td>\n",
              "      <td>1946</td>\n",
              "      <td>138898</td>\n",
              "      <td>122872</td>\n",
              "      <td>9440686</td>\n",
              "      <td>525</td>\n",
              "      <td>20210528</td>\n",
              "      <td>00:00</td>\n",
              "      <td>2021-05-29 09:47:35.466</td>\n",
              "    </tr>\n",
              "    <tr>\n",
              "      <th>4</th>\n",
              "      <td>1.4493399059</td>\n",
              "      <td>9665693</td>\n",
              "      <td>9543034</td>\n",
              "      <td>8188</td>\n",
              "      <td>128180</td>\n",
              "      <td>2021-05-27 09:39:43.099</td>\n",
              "      <td>1943</td>\n",
              "      <td>138311</td>\n",
              "      <td>122659</td>\n",
              "      <td>9404723</td>\n",
              "      <td>524</td>\n",
              "      <td>20210527</td>\n",
              "      <td>00:00</td>\n",
              "      <td>null</td>\n",
              "    </tr>\n",
              "  </tbody>\n",
              "</table>\n",
              "</div>"
            ],
            "text/plain": [
              "     accDefRate accExamCnt  ... stateTime                 updateDt\n",
              "0  1.4568360166    9761158  ...     00:00                     null\n",
              "1  1.4541964496    9747614  ...     00:00                     null\n",
              "2  1.4509249463    9733591  ...     00:00                     null\n",
              "3  1.4499377008    9702456  ...     00:00  2021-05-29 09:47:35.466\n",
              "4  1.4493399059    9665693  ...     00:00                     null\n",
              "\n",
              "[5 rows x 14 columns]"
            ]
          },
          "metadata": {
            "tags": []
          },
          "execution_count": 11
        }
      ]
    },
    {
      "cell_type": "code",
      "metadata": {
        "colab": {
          "base_uri": "https://localhost:8080/",
          "height": 657
        },
        "id": "Ski_XKnRaRVT",
        "outputId": "e5a6fcf3-3f52-42a5-a706-e461682ed4ca"
      },
      "source": [
        "df['date']=df['stateDt']\n",
        "df['date'] = pd.to_datetime(df['date']) #시계열지정\n",
        "df.set_index('date')"
      ],
      "execution_count": null,
      "outputs": [
        {
          "output_type": "execute_result",
          "data": {
            "text/html": [
              "<div>\n",
              "<style scoped>\n",
              "    .dataframe tbody tr th:only-of-type {\n",
              "        vertical-align: middle;\n",
              "    }\n",
              "\n",
              "    .dataframe tbody tr th {\n",
              "        vertical-align: top;\n",
              "    }\n",
              "\n",
              "    .dataframe thead th {\n",
              "        text-align: right;\n",
              "    }\n",
              "</style>\n",
              "<table border=\"1\" class=\"dataframe\">\n",
              "  <thead>\n",
              "    <tr style=\"text-align: right;\">\n",
              "      <th></th>\n",
              "      <th>accDefRate</th>\n",
              "      <th>accExamCnt</th>\n",
              "      <th>accExamCompCnt</th>\n",
              "      <th>careCnt</th>\n",
              "      <th>clearCnt</th>\n",
              "      <th>createDt</th>\n",
              "      <th>deathCnt</th>\n",
              "      <th>decideCnt</th>\n",
              "      <th>examCnt</th>\n",
              "      <th>resutlNegCnt</th>\n",
              "      <th>seq</th>\n",
              "      <th>stateDt</th>\n",
              "      <th>stateTime</th>\n",
              "      <th>updateDt</th>\n",
              "    </tr>\n",
              "    <tr>\n",
              "      <th>date</th>\n",
              "      <th></th>\n",
              "      <th></th>\n",
              "      <th></th>\n",
              "      <th></th>\n",
              "      <th></th>\n",
              "      <th></th>\n",
              "      <th></th>\n",
              "      <th></th>\n",
              "      <th></th>\n",
              "      <th></th>\n",
              "      <th></th>\n",
              "      <th></th>\n",
              "      <th></th>\n",
              "      <th></th>\n",
              "    </tr>\n",
              "  </thead>\n",
              "  <tbody>\n",
              "    <tr>\n",
              "      <th>2021-05-31</th>\n",
              "      <td>1.4568360166</td>\n",
              "      <td>9761158</td>\n",
              "      <td>9633205</td>\n",
              "      <td>7558</td>\n",
              "      <td>130823</td>\n",
              "      <td>2021-05-31 09:34:29.254</td>\n",
              "      <td>1959</td>\n",
              "      <td>140340</td>\n",
              "      <td>127953</td>\n",
              "      <td>9492865</td>\n",
              "      <td>528</td>\n",
              "      <td>20210531</td>\n",
              "      <td>00:00</td>\n",
              "      <td>null</td>\n",
              "    </tr>\n",
              "    <tr>\n",
              "      <th>2021-05-30</th>\n",
              "      <td>1.4541964496</td>\n",
              "      <td>9747614</td>\n",
              "      <td>9621121</td>\n",
              "      <td>7572</td>\n",
              "      <td>130381</td>\n",
              "      <td>2021-05-30 09:24:39.384</td>\n",
              "      <td>1957</td>\n",
              "      <td>139910</td>\n",
              "      <td>126493</td>\n",
              "      <td>9481211</td>\n",
              "      <td>527</td>\n",
              "      <td>20210530</td>\n",
              "      <td>00:00</td>\n",
              "      <td>null</td>\n",
              "    </tr>\n",
              "    <tr>\n",
              "      <th>2021-05-29</th>\n",
              "      <td>1.4509249463</td>\n",
              "      <td>9733591</td>\n",
              "      <td>9609801</td>\n",
              "      <td>7741</td>\n",
              "      <td>129739</td>\n",
              "      <td>2021-05-29 09:45:26.765</td>\n",
              "      <td>1951</td>\n",
              "      <td>139431</td>\n",
              "      <td>123790</td>\n",
              "      <td>9470370</td>\n",
              "      <td>526</td>\n",
              "      <td>20210529</td>\n",
              "      <td>00:00</td>\n",
              "      <td>null</td>\n",
              "    </tr>\n",
              "    <tr>\n",
              "      <th>2021-05-28</th>\n",
              "      <td>1.4499377008</td>\n",
              "      <td>9702456</td>\n",
              "      <td>9579584</td>\n",
              "      <td>8193</td>\n",
              "      <td>128759</td>\n",
              "      <td>2021-05-28 09:34:29.553</td>\n",
              "      <td>1946</td>\n",
              "      <td>138898</td>\n",
              "      <td>122872</td>\n",
              "      <td>9440686</td>\n",
              "      <td>525</td>\n",
              "      <td>20210528</td>\n",
              "      <td>00:00</td>\n",
              "      <td>2021-05-29 09:47:35.466</td>\n",
              "    </tr>\n",
              "    <tr>\n",
              "      <th>2021-05-27</th>\n",
              "      <td>1.4493399059</td>\n",
              "      <td>9665693</td>\n",
              "      <td>9543034</td>\n",
              "      <td>8188</td>\n",
              "      <td>128180</td>\n",
              "      <td>2021-05-27 09:39:43.099</td>\n",
              "      <td>1943</td>\n",
              "      <td>138311</td>\n",
              "      <td>122659</td>\n",
              "      <td>9404723</td>\n",
              "      <td>524</td>\n",
              "      <td>20210527</td>\n",
              "      <td>00:00</td>\n",
              "      <td>null</td>\n",
              "    </tr>\n",
              "    <tr>\n",
              "      <th>...</th>\n",
              "      <td>...</td>\n",
              "      <td>...</td>\n",
              "      <td>...</td>\n",
              "      <td>...</td>\n",
              "      <td>...</td>\n",
              "      <td>...</td>\n",
              "      <td>...</td>\n",
              "      <td>...</td>\n",
              "      <td>...</td>\n",
              "      <td>...</td>\n",
              "      <td>...</td>\n",
              "      <td>...</td>\n",
              "      <td>...</td>\n",
              "      <td>...</td>\n",
              "    </tr>\n",
              "    <tr>\n",
              "      <th>2020-02-04</th>\n",
              "      <td>NaN</td>\n",
              "      <td>NaN</td>\n",
              "      <td>NaN</td>\n",
              "      <td>NaN</td>\n",
              "      <td>0</td>\n",
              "      <td>2020-02-03 21:26:59.59</td>\n",
              "      <td>0</td>\n",
              "      <td>0</td>\n",
              "      <td>0</td>\n",
              "      <td>NaN</td>\n",
              "      <td>4</td>\n",
              "      <td>20200204</td>\n",
              "      <td>00:00</td>\n",
              "      <td>2020-02-03 21:26:59.59</td>\n",
              "    </tr>\n",
              "    <tr>\n",
              "      <th>2020-02-03</th>\n",
              "      <td>NaN</td>\n",
              "      <td>NaN</td>\n",
              "      <td>NaN</td>\n",
              "      <td>NaN</td>\n",
              "      <td>0</td>\n",
              "      <td>2020-02-03 14:41:17.17</td>\n",
              "      <td>0</td>\n",
              "      <td>15</td>\n",
              "      <td>0</td>\n",
              "      <td>NaN</td>\n",
              "      <td>3</td>\n",
              "      <td>20200203</td>\n",
              "      <td>09:00</td>\n",
              "      <td>2020-02-03 14:41:17.17</td>\n",
              "    </tr>\n",
              "    <tr>\n",
              "      <th>2020-02-02</th>\n",
              "      <td>NaN</td>\n",
              "      <td>NaN</td>\n",
              "      <td>NaN</td>\n",
              "      <td>NaN</td>\n",
              "      <td>2</td>\n",
              "      <td>2020-02-03 12:22:49.49</td>\n",
              "      <td>2</td>\n",
              "      <td>2</td>\n",
              "      <td>2</td>\n",
              "      <td>NaN</td>\n",
              "      <td>2</td>\n",
              "      <td>20200202</td>\n",
              "      <td>09:00</td>\n",
              "      <td>2020-02-03 12:22:49.49</td>\n",
              "    </tr>\n",
              "    <tr>\n",
              "      <th>2020-02-01</th>\n",
              "      <td>NaN</td>\n",
              "      <td>NaN</td>\n",
              "      <td>NaN</td>\n",
              "      <td>NaN</td>\n",
              "      <td>1</td>\n",
              "      <td>2020-01-31 17:47:33.33</td>\n",
              "      <td>0</td>\n",
              "      <td>0</td>\n",
              "      <td>1</td>\n",
              "      <td>NaN</td>\n",
              "      <td>1</td>\n",
              "      <td>20200201</td>\n",
              "      <td>18:00</td>\n",
              "      <td>2020-01-31 17:47:33.33</td>\n",
              "    </tr>\n",
              "    <tr>\n",
              "      <th>2020-01-01</th>\n",
              "      <td>None</td>\n",
              "      <td>NaN</td>\n",
              "      <td>NaN</td>\n",
              "      <td>NaN</td>\n",
              "      <td>1</td>\n",
              "      <td>2020-01-31 17:47:33.33</td>\n",
              "      <td>0</td>\n",
              "      <td>0</td>\n",
              "      <td>1</td>\n",
              "      <td>NaN</td>\n",
              "      <td>1</td>\n",
              "      <td>20200101</td>\n",
              "      <td>18:00</td>\n",
              "      <td>2020-02-03 12:21:56.56</td>\n",
              "    </tr>\n",
              "  </tbody>\n",
              "</table>\n",
              "<p>487 rows × 14 columns</p>\n",
              "</div>"
            ],
            "text/plain": [
              "              accDefRate accExamCnt  ... stateTime                 updateDt\n",
              "date                                 ...                                   \n",
              "2021-05-31  1.4568360166    9761158  ...     00:00                     null\n",
              "2021-05-30  1.4541964496    9747614  ...     00:00                     null\n",
              "2021-05-29  1.4509249463    9733591  ...     00:00                     null\n",
              "2021-05-28  1.4499377008    9702456  ...     00:00  2021-05-29 09:47:35.466\n",
              "2021-05-27  1.4493399059    9665693  ...     00:00                     null\n",
              "...                  ...        ...  ...       ...                      ...\n",
              "2020-02-04           NaN        NaN  ...     00:00   2020-02-03 21:26:59.59\n",
              "2020-02-03           NaN        NaN  ...     09:00   2020-02-03 14:41:17.17\n",
              "2020-02-02           NaN        NaN  ...     09:00   2020-02-03 12:22:49.49\n",
              "2020-02-01           NaN        NaN  ...     18:00   2020-01-31 17:47:33.33\n",
              "2020-01-01          None        NaN  ...     18:00   2020-02-03 12:21:56.56\n",
              "\n",
              "[487 rows x 14 columns]"
            ]
          },
          "metadata": {
            "tags": []
          },
          "execution_count": 12
        }
      ]
    },
    {
      "cell_type": "markdown",
      "metadata": {
        "id": "m-DwqgKVwSsw"
      },
      "source": [
        "**DataFrame.diff()**"
      ]
    },
    {
      "cell_type": "code",
      "metadata": {
        "id": "EdtsMF3laYbt"
      },
      "source": [
        "df_2 = df[['date','decideCnt','deathCnt']]"
      ],
      "execution_count": null,
      "outputs": []
    },
    {
      "cell_type": "code",
      "metadata": {
        "id": "1AtlPMHlbFVx"
      },
      "source": [
        "df_2 = df_2.sort_values(by='date') #diff()를 사용하기 위해서 날짜로 오름차순 정렬"
      ],
      "execution_count": null,
      "outputs": []
    },
    {
      "cell_type": "code",
      "metadata": {
        "id": "ZtiPK4vraq-5"
      },
      "source": [
        "df_2['daily_decideCnt'] = df_2['decideCnt'].diff()"
      ],
      "execution_count": null,
      "outputs": []
    },
    {
      "cell_type": "code",
      "metadata": {
        "colab": {
          "base_uri": "https://localhost:8080/",
          "height": 204
        },
        "id": "gSk-m8wZikai",
        "outputId": "e9132246-b1a1-459b-9624-9004b84804b1"
      },
      "source": [
        "df_2.head(5)"
      ],
      "execution_count": null,
      "outputs": [
        {
          "output_type": "execute_result",
          "data": {
            "text/html": [
              "<div>\n",
              "<style scoped>\n",
              "    .dataframe tbody tr th:only-of-type {\n",
              "        vertical-align: middle;\n",
              "    }\n",
              "\n",
              "    .dataframe tbody tr th {\n",
              "        vertical-align: top;\n",
              "    }\n",
              "\n",
              "    .dataframe thead th {\n",
              "        text-align: right;\n",
              "    }\n",
              "</style>\n",
              "<table border=\"1\" class=\"dataframe\">\n",
              "  <thead>\n",
              "    <tr style=\"text-align: right;\">\n",
              "      <th></th>\n",
              "      <th>date</th>\n",
              "      <th>decideCnt</th>\n",
              "      <th>deathCnt</th>\n",
              "      <th>daily_decideCnt</th>\n",
              "    </tr>\n",
              "  </thead>\n",
              "  <tbody>\n",
              "    <tr>\n",
              "      <th>486</th>\n",
              "      <td>2020-01-01</td>\n",
              "      <td>0</td>\n",
              "      <td>0</td>\n",
              "      <td>NaN</td>\n",
              "    </tr>\n",
              "    <tr>\n",
              "      <th>485</th>\n",
              "      <td>2020-02-01</td>\n",
              "      <td>0</td>\n",
              "      <td>0</td>\n",
              "      <td>0.0</td>\n",
              "    </tr>\n",
              "    <tr>\n",
              "      <th>484</th>\n",
              "      <td>2020-02-02</td>\n",
              "      <td>2</td>\n",
              "      <td>2</td>\n",
              "      <td>2.0</td>\n",
              "    </tr>\n",
              "    <tr>\n",
              "      <th>483</th>\n",
              "      <td>2020-02-03</td>\n",
              "      <td>15</td>\n",
              "      <td>0</td>\n",
              "      <td>13.0</td>\n",
              "    </tr>\n",
              "    <tr>\n",
              "      <th>482</th>\n",
              "      <td>2020-02-04</td>\n",
              "      <td>0</td>\n",
              "      <td>0</td>\n",
              "      <td>-15.0</td>\n",
              "    </tr>\n",
              "  </tbody>\n",
              "</table>\n",
              "</div>"
            ],
            "text/plain": [
              "          date  decideCnt  deathCnt  daily_decideCnt\n",
              "486 2020-01-01          0         0              NaN\n",
              "485 2020-02-01          0         0              0.0\n",
              "484 2020-02-02          2         2              2.0\n",
              "483 2020-02-03         15         0             13.0\n",
              "482 2020-02-04          0         0            -15.0"
            ]
          },
          "metadata": {
            "tags": []
          },
          "execution_count": 16
        }
      ]
    },
    {
      "cell_type": "code",
      "metadata": {
        "colab": {
          "base_uri": "https://localhost:8080/",
          "height": 294
        },
        "id": "FmOlYNudcFjz",
        "outputId": "b313e316-1f42-4d13-dd29-74204f06f11b"
      },
      "source": [
        "df_2.plot('date', ['daily_decideCnt'])"
      ],
      "execution_count": null,
      "outputs": [
        {
          "output_type": "execute_result",
          "data": {
            "text/plain": [
              "<matplotlib.axes._subplots.AxesSubplot at 0x7f4bf7f60050>"
            ]
          },
          "metadata": {
            "tags": []
          },
          "execution_count": 17
        },
        {
          "output_type": "display_data",
          "data": {
            "image/png": "[encoded data removed]",
            "text/plain": [
              "<Figure size 432x288 with 1 Axes>"
            ]
          },
          "metadata": {
            "tags": [],
            "needs_background": "light"
          }
        }
      ]
    },
    {
      "cell_type": "code",
      "metadata": {
        "id": "u652AXpVDGhe"
      },
      "source": [
        "df_2.to_csv(\"df2\")"
      ],
      "execution_count": null,
      "outputs": []
    },
    {
      "cell_type": "markdown",
      "metadata": {
        "id": "Cy2qkWWpwhjD"
      },
      "source": [
        "### 요약\n",
        "- requests : 데이터 받아오기\n",
        "- xmltodict : XML 데이터를 DataFrame으로 전환\n",
        "- DataFrame.diff() : 일별 누진 데이터를 일일 데이터로 변환"
      ]
    },
    {
      "cell_type": "code",
      "metadata": {
        "colab": {
          "base_uri": "https://localhost:8080/"
        },
        "id": "6lzoNderDOnb",
        "outputId": "b252b0cc-192b-4d11-c632-3851dd3d6bfd"
      },
      "source": [
        "from google.colab import drive\n",
        "drive.mount('/content/drive')"
      ],
      "execution_count": null,
      "outputs": [
        {
          "output_type": "stream",
          "text": [
            "Drive already mounted at /content/drive; to attempt to forcibly remount, call drive.mount(\"/content/drive\", force_remount=True).\n"
          ],
          "name": "stdout"
        }
      ]
    },
    {
      "cell_type": "code",
      "metadata": {
        "colab": {
          "base_uri": "https://localhost:8080/"
        },
        "id": "hpwqcjrcBvwc",
        "outputId": "6d14bbac-e196-429a-c120-1b593db856c6"
      },
      "source": [
        "pip install selenium"
      ],
      "execution_count": null,
      "outputs": [
        {
          "output_type": "stream",
          "text": [
            "Requirement already satisfied: selenium in /usr/local/lib/python3.7/dist-packages (3.141.0)\n",
            "Requirement already satisfied: urllib3 in /usr/local/lib/python3.7/dist-packages (from selenium) (1.24.3)\n"
          ],
          "name": "stdout"
        }
      ]
    },
    {
      "cell_type": "code",
      "metadata": {
        "id": "xgWsGlCv-3Mz"
      },
      "source": [
        "import pandas as pd\n",
        "import numpy as np\n",
        "import datetime as dt\n",
        "import matplotlib as mpl\n",
        "from matplotlib import pyplot as plt\n",
        "import seaborn as sns\n",
        "import warnings\n",
        "import folium\n",
        "from folium import plugins\n",
        "import plotly.express as px\n",
        "import plotly.offline as pyo\n",
        "import plotly.graph_objs as go\n",
        "from plotly.subplots import make_subplots\n",
        "from IPython.display import display, Image\n",
        "from selenium import webdriver\n",
        "from selenium.common.exceptions import NoSuchElementException,StaleElementReferenceException\n",
        "import json\n",
        "import time\n",
        "warnings.filterwarnings(action='ignore')\n",
        "warnings.filterwarnings(\"ignore\", category=DeprecationWarning) \n",
        "\n",
        "%matplotlib inline\n",
        "plt.style.use('seaborn')"
      ],
      "execution_count": null,
      "outputs": []
    },
    {
      "cell_type": "code",
      "metadata": {
        "colab": {
          "base_uri": "https://localhost:8080/"
        },
        "id": "zfdMQuCcBj1H",
        "outputId": "aa3acb06-7b4c-434b-f5aa-c9a8e551df71"
      },
      "source": [
        "#그래프 한글 출력을 위한 코드\n",
        "!sudo apt-get install -y fonts-nanum\n",
        "!sudo fc-cache -fv\n",
        "!rm ~/.cache/matplotlib -rf\n",
        "!pip install git+https://github.com/python-visualization/branca.git@master"
      ],
      "execution_count": null,
      "outputs": [
        {
          "output_type": "stream",
          "text": [
            "Reading package lists... Done\n",
            "Building dependency tree       \n",
            "Reading state information... Done\n",
            "fonts-nanum is already the newest version (20170925-1).\n",
            "0 upgraded, 0 newly installed, 0 to remove and 39 not upgraded.\n",
            "/usr/share/fonts: caching, new cache contents: 0 fonts, 1 dirs\n",
            "/usr/share/fonts/truetype: caching, new cache contents: 0 fonts, 3 dirs\n",
            "/usr/share/fonts/truetype/humor-sans: caching, new cache contents: 1 fonts, 0 dirs\n",
            "/usr/share/fonts/truetype/liberation: caching, new cache contents: 16 fonts, 0 dirs\n",
            "/usr/share/fonts/truetype/nanum: caching, new cache contents: 10 fonts, 0 dirs\n",
            "/usr/local/share/fonts: caching, new cache contents: 0 fonts, 0 dirs\n",
            "/root/.local/share/fonts: skipping, no such directory\n",
            "/root/.fonts: skipping, no such directory\n",
            "/var/cache/fontconfig: cleaning cache directory\n",
            "/root/.cache/fontconfig: not cleaning non-existent cache directory\n",
            "/root/.fontconfig: not cleaning non-existent cache directory\n",
            "fc-cache: succeeded\n",
            "Collecting git+https://github.com/python-visualization/branca.git@master\n",
            "  Cloning https://github.com/python-visualization/branca.git (to revision master) to /tmp/pip-req-build-j3mxu_x9\n",
            "  Running command git clone -q https://github.com/python-visualization/branca.git /tmp/pip-req-build-j3mxu_x9\n",
            "Requirement already satisfied (use --upgrade to upgrade): branca==0.4.2+8.geefe45c from git+https://github.com/python-visualization/branca.git@master in /usr/local/lib/python3.7/dist-packages\n",
            "Requirement already satisfied: jinja2 in /usr/local/lib/python3.7/dist-packages (from branca==0.4.2+8.geefe45c) (2.11.3)\n",
            "Requirement already satisfied: MarkupSafe>=0.23 in /usr/local/lib/python3.7/dist-packages (from jinja2->branca==0.4.2+8.geefe45c) (2.0.1)\n",
            "Building wheels for collected packages: branca\n",
            "  Building wheel for branca (setup.py) ... \u001b[?25l\u001b[?25hdone\n",
            "  Created wheel for branca: filename=branca-0.4.2+8.geefe45c-cp37-none-any.whl size=24356 sha256=bff14e06824e41d2e8ebd0f5499c17464a04491b41fc01160b6c552e8194cca3\n",
            "  Stored in directory: /tmp/pip-ephem-wheel-cache-97x317o1/wheels/14/bc/41/d6078abe73beea93d98c014bba54c395224cabb54f95b9d248\n",
            "Successfully built branca\n"
          ],
          "name": "stdout"
        }
      ]
    },
    {
      "cell_type": "code",
      "metadata": {
        "id": "OsDs7jP9DXuA"
      },
      "source": [
        "pd.set_option('max_columns', 24,'max_rows', 20) \n",
        "plt.style.use('seaborn')\n",
        "plt.rc('font', family='Malgun Gothic') \n",
        "plt.rc('axes', unicode_minus=False)"
      ],
      "execution_count": null,
      "outputs": []
    },
    {
      "cell_type": "code",
      "metadata": {
        "id": "SjadEJJkD-XK"
      },
      "source": [
        "time = pd.read_csv(\"/content/df2\")"
      ],
      "execution_count": null,
      "outputs": []
    },
    {
      "cell_type": "code",
      "metadata": {
        "colab": {
          "base_uri": "https://localhost:8080/",
          "height": 419
        },
        "id": "GSgTpaOUEEHI",
        "outputId": "400762fb-37af-420a-c63e-eefdb7156412"
      },
      "source": [
        "time"
      ],
      "execution_count": null,
      "outputs": [
        {
          "output_type": "execute_result",
          "data": {
            "text/html": [
              "<div>\n",
              "<style scoped>\n",
              "    .dataframe tbody tr th:only-of-type {\n",
              "        vertical-align: middle;\n",
              "    }\n",
              "\n",
              "    .dataframe tbody tr th {\n",
              "        vertical-align: top;\n",
              "    }\n",
              "\n",
              "    .dataframe thead th {\n",
              "        text-align: right;\n",
              "    }\n",
              "</style>\n",
              "<table border=\"1\" class=\"dataframe\">\n",
              "  <thead>\n",
              "    <tr style=\"text-align: right;\">\n",
              "      <th></th>\n",
              "      <th>Unnamed: 0</th>\n",
              "      <th>date</th>\n",
              "      <th>decideCnt</th>\n",
              "      <th>deathCnt</th>\n",
              "      <th>daily_decideCnt</th>\n",
              "    </tr>\n",
              "  </thead>\n",
              "  <tbody>\n",
              "    <tr>\n",
              "      <th>0</th>\n",
              "      <td>486</td>\n",
              "      <td>2020-01-01</td>\n",
              "      <td>0</td>\n",
              "      <td>0</td>\n",
              "      <td>NaN</td>\n",
              "    </tr>\n",
              "    <tr>\n",
              "      <th>1</th>\n",
              "      <td>485</td>\n",
              "      <td>2020-02-01</td>\n",
              "      <td>0</td>\n",
              "      <td>0</td>\n",
              "      <td>0.0</td>\n",
              "    </tr>\n",
              "    <tr>\n",
              "      <th>2</th>\n",
              "      <td>484</td>\n",
              "      <td>2020-02-02</td>\n",
              "      <td>2</td>\n",
              "      <td>2</td>\n",
              "      <td>2.0</td>\n",
              "    </tr>\n",
              "    <tr>\n",
              "      <th>3</th>\n",
              "      <td>483</td>\n",
              "      <td>2020-02-03</td>\n",
              "      <td>15</td>\n",
              "      <td>0</td>\n",
              "      <td>13.0</td>\n",
              "    </tr>\n",
              "    <tr>\n",
              "      <th>4</th>\n",
              "      <td>482</td>\n",
              "      <td>2020-02-04</td>\n",
              "      <td>0</td>\n",
              "      <td>0</td>\n",
              "      <td>-15.0</td>\n",
              "    </tr>\n",
              "    <tr>\n",
              "      <th>...</th>\n",
              "      <td>...</td>\n",
              "      <td>...</td>\n",
              "      <td>...</td>\n",
              "      <td>...</td>\n",
              "      <td>...</td>\n",
              "    </tr>\n",
              "    <tr>\n",
              "      <th>482</th>\n",
              "      <td>4</td>\n",
              "      <td>2021-05-27</td>\n",
              "      <td>138311</td>\n",
              "      <td>1943</td>\n",
              "      <td>637.0</td>\n",
              "    </tr>\n",
              "    <tr>\n",
              "      <th>483</th>\n",
              "      <td>3</td>\n",
              "      <td>2021-05-28</td>\n",
              "      <td>138898</td>\n",
              "      <td>1946</td>\n",
              "      <td>587.0</td>\n",
              "    </tr>\n",
              "    <tr>\n",
              "      <th>484</th>\n",
              "      <td>2</td>\n",
              "      <td>2021-05-29</td>\n",
              "      <td>139431</td>\n",
              "      <td>1951</td>\n",
              "      <td>533.0</td>\n",
              "    </tr>\n",
              "    <tr>\n",
              "      <th>485</th>\n",
              "      <td>1</td>\n",
              "      <td>2021-05-30</td>\n",
              "      <td>139910</td>\n",
              "      <td>1957</td>\n",
              "      <td>479.0</td>\n",
              "    </tr>\n",
              "    <tr>\n",
              "      <th>486</th>\n",
              "      <td>0</td>\n",
              "      <td>2021-05-31</td>\n",
              "      <td>140340</td>\n",
              "      <td>1959</td>\n",
              "      <td>430.0</td>\n",
              "    </tr>\n",
              "  </tbody>\n",
              "</table>\n",
              "<p>487 rows × 5 columns</p>\n",
              "</div>"
            ],
            "text/plain": [
              "     Unnamed: 0        date  decideCnt  deathCnt  daily_decideCnt\n",
              "0           486  2020-01-01          0         0              NaN\n",
              "1           485  2020-02-01          0         0              0.0\n",
              "2           484  2020-02-02          2         2              2.0\n",
              "3           483  2020-02-03         15         0             13.0\n",
              "4           482  2020-02-04          0         0            -15.0\n",
              "..          ...         ...        ...       ...              ...\n",
              "482           4  2021-05-27     138311      1943            637.0\n",
              "483           3  2021-05-28     138898      1946            587.0\n",
              "484           2  2021-05-29     139431      1951            533.0\n",
              "485           1  2021-05-30     139910      1957            479.0\n",
              "486           0  2021-05-31     140340      1959            430.0\n",
              "\n",
              "[487 rows x 5 columns]"
            ]
          },
          "metadata": {
            "tags": []
          },
          "execution_count": 25
        }
      ]
    },
    {
      "cell_type": "code",
      "metadata": {
        "colab": {
          "base_uri": "https://localhost:8080/",
          "height": 717
        },
        "id": "ZxyxigXrDxkK",
        "outputId": "33e273bf-d47f-470b-e01e-970e6b97ad32"
      },
      "source": [
        "fig = go.Figure()\n",
        "fig.add_trace(go.Line(x=time['date'], y = time['deathCnt'], name = \"일자별 누적 확진자 수(전국)\", marker_color='#33AFFF', yaxis=\"y\"))\n",
        "fig.add_trace(go.Bar(x=time['date'], y = time['daily_decideCnt'], name = \"일자별 확진자 수(전국)\", marker_color='#E80BCD', yaxis=\"y2\"))\n",
        "fig.update_layout(shapes=[dict(fillcolor=\"rgba(211, 211, 211, 0.3)\",line={\"width\": 0}, type=\"rect\",x0=\"2020-12-14\",x1=\"2021-01-05\",xref=\"x\",y0=0,y1=0.95,yref=\"paper\")])\n",
        "fig.update_layout(xaxis=dict(rangeslider=dict(autorange=True, range=[\"2020-01-20\", \"2020-06-30\"],visible=True),type=\"date\"),\n",
        "                  yaxis=dict(anchor=\"x\",autorange=True,domain=[0, 0.5],linecolor=\"#33AFFF\",mirror=True,range=[-60.0858369099, 28.4406294707],showline=True,side=\"right\",\n",
        "                             tickfont={\"color\": \"#33AFFF\"},tickmode=\"auto\",ticks=\"\",titlefont={\"color\": \"#33AFFF\"},type=\"linear\",zeroline=False),\n",
        "                  yaxis2=dict(anchor=\"x\",autorange=True,domain=[0.5, 0.95],linecolor=\"#E80BCD\",mirror=True,range=[29.3787777032, 100.621222297],showline=True,side=\"right\",\n",
        "                             tickfont={\"color\": \"#E80BCD\"},tickmode=\"auto\",ticks=\"\",titlefont={\"color\": \"#E80BCD\"},type=\"linear\",zeroline=False))\n",
        "fig.update_layout(dragmode=\"zoom\", hovermode=\"x\", height=700, template=\"plotly_dark\", title_text = \"일자별 코로나 확진 현황\", margin=dict(t=100, b=100))\n",
        "fig.show()"
      ],
      "execution_count": 38,
      "outputs": [
        {
          "output_type": "display_data",
          "data": {
            "text/html": [
              "<html>\n",
              "<head><meta charset=\"utf-8\" /></head>\n",
              "<body>\n",
              "    <div>\n",
              "            <script src=\"https://cdnjs.cloudflare.com/ajax/libs/mathjax/2.7.5/MathJax.js?config=TeX-AMS-MML_SVG\"></script><script type=\"text/javascript\">if (window.MathJax) {MathJax.Hub.Config({SVG: {font: \"STIX-Web\"}});}</script>\n",
              "                <script type=\"text/javascript\">window.PlotlyConfig = {MathJaxConfig: 'local'};</script>\n",
              "        <script src=\"https://cdn.plot.ly/plotly-latest.min.js\"></script>    \n",
              "            <div id=\"1a36bc2b-d01d-4236-ad57-c2df1d4f4563\" class=\"plotly-graph-div\" style=\"height:700px; width:100%;\"></div>\n",
              "            <script type=\"text/javascript\">\n",
              "                \n",
              "                    window.PLOTLYENV=window.PLOTLYENV || {};\n",
              "                    \n",
              "                if (document.getElementById(\"1a36bc2b-d01d-4236-ad57-c2df1d4f4563\")) {\n",
              "                    Plotly.newPlot(\n",
              "                        '1a36bc2b-d01d-4236-ad57-c2df1d4f4563',\n",
              "                        [{\"marker\": {\"color\": \"#33AFFF\"}, \"name\": \"\\uc77c\\uc790\\ubcc4 \\ub204\\uc801 \\ud655\\uc9c4\\uc790 \\uc218(\\uc804\\uad6d)\", \"type\": \"scatter\", \"x\": [\"2020-01-01\", \"2020-02-01\", \"2020-02-02\", \"2020-02-03\", \"2020-02-04\", \"2020-02-05\", \"2020-02-06\", \"2020-02-07\", \"2020-02-08\", \"2020-02-09\", \"2020-02-10\", \"2020-02-11\", \"2020-02-12\", \"2020-02-13\", \"2020-02-14\", \"2020-02-15\", \"2020-02-16\", \"2020-02-17\", \"2020-02-18\", \"2020-02-19\", \"2020-02-20\", \"2020-02-21\", \"2020-02-22\", \"2020-02-23\", \"2020-02-24\", \"2020-02-25\", \"2020-02-26\", \"2020-02-27\", \"2020-02-28\", \"2020-02-29\", \"2020-03-01\", \"2020-03-02\", \"2020-03-03\", \"2020-03-04\", \"2020-03-05\", \"2020-03-06\", \"2020-03-07\", \"2020-03-08\", \"2020-03-09\", \"2020-03-10\", \"2020-03-11\", \"2020-03-12\", \"2020-03-13\", \"2020-03-14\", \"2020-03-15\", \"2020-03-16\", \"2020-03-17\", \"2020-03-18\", \"2020-03-19\", \"2020-03-20\", \"2020-03-21\", \"2020-03-22\", \"2020-03-23\", \"2020-03-24\", \"2020-03-25\", \"2020-03-26\", \"2020-03-27\", \"2020-03-28\", \"2020-03-29\", \"2020-03-30\", \"2020-03-31\", \"2020-04-01\", \"2020-04-02\", \"2020-04-03\", \"2020-04-04\", \"2020-04-05\", \"2020-04-06\", \"2020-04-07\", \"2020-04-08\", \"2020-04-09\", \"2020-04-10\", \"2020-04-11\", \"2020-04-12\", \"2020-04-13\", \"2020-04-14\", \"2020-04-15\", \"2020-04-16\", \"2020-04-17\", \"2020-04-18\", \"2020-04-19\", \"2020-04-20\", \"2020-04-21\", \"2020-04-22\", \"2020-04-23\", \"2020-04-24\", \"2020-04-25\", \"2020-04-26\", \"2020-04-27\", \"2020-04-28\", \"2020-04-29\", \"2020-04-30\", \"2020-05-01\", \"2020-05-02\", \"2020-05-03\", \"2020-05-04\", \"2020-05-05\", \"2020-05-06\", \"2020-05-07\", \"2020-05-08\", \"2020-05-09\", \"2020-05-10\", \"2020-05-11\", \"2020-05-12\", \"2020-05-13\", \"2020-05-14\", \"2020-05-15\", \"2020-05-16\", \"2020-05-17\", \"2020-05-18\", \"2020-05-19\", \"2020-05-20\", \"2020-05-21\", \"2020-05-22\", \"2020-05-23\", \"2020-05-24\", \"2020-05-25\", \"2020-05-26\", \"2020-05-27\", \"2020-05-28\", \"2020-05-29\", \"2020-05-30\", \"2020-05-31\", \"2020-06-01\", \"2020-06-02\", \"2020-06-03\", \"2020-06-04\", \"2020-06-05\", \"2020-06-06\", \"2020-06-07\", \"2020-06-08\", \"2020-06-09\", \"2020-06-10\", \"2020-06-11\", \"2020-06-12\", \"2020-06-13\", \"2020-06-14\", \"2020-06-15\", \"2020-06-16\", \"2020-06-17\", \"2020-06-18\", \"2020-06-19\", \"2020-06-20\", \"2020-06-21\", \"2020-06-22\", \"2020-06-23\", \"2020-06-24\", \"2020-06-25\", \"2020-06-26\", \"2020-06-27\", \"2020-06-28\", \"2020-06-29\", \"2020-06-30\", \"2020-07-01\", \"2020-07-02\", \"2020-07-03\", \"2020-07-04\", \"2020-07-05\", \"2020-07-06\", \"2020-07-07\", \"2020-07-08\", \"2020-07-09\", \"2020-07-10\", \"2020-07-11\", \"2020-07-12\", \"2020-07-13\", \"2020-07-14\", \"2020-07-15\", \"2020-07-16\", \"2020-07-17\", \"2020-07-18\", \"2020-07-19\", \"2020-07-20\", \"2020-07-21\", \"2020-07-22\", \"2020-07-23\", \"2020-07-24\", \"2020-07-25\", \"2020-07-26\", \"2020-07-27\", \"2020-07-28\", \"2020-07-29\", \"2020-07-30\", \"2020-07-31\", \"2020-08-01\", \"2020-08-02\", \"2020-08-03\", \"2020-08-04\", \"2020-08-05\", \"2020-08-06\", \"2020-08-07\", \"2020-08-08\", \"2020-08-09\", \"2020-08-10\", \"2020-08-11\", \"2020-08-12\", \"2020-08-13\", \"2020-08-14\", \"2020-08-15\", \"2020-08-16\", \"2020-08-17\", \"2020-08-18\", \"2020-08-19\", \"2020-08-20\", \"2020-08-21\", \"2020-08-22\", \"2020-08-23\", \"2020-08-24\", \"2020-08-25\", \"2020-08-26\", \"2020-08-27\", \"2020-08-28\", \"2020-08-29\", \"2020-08-30\", \"2020-08-31\", \"2020-09-01\", \"2020-09-02\", \"2020-09-03\", \"2020-09-04\", \"2020-09-05\", \"2020-09-06\", \"2020-09-07\", \"2020-09-08\", \"2020-09-09\", \"2020-09-10\", \"2020-09-11\", \"2020-09-12\", \"2020-09-13\", \"2020-09-14\", \"2020-09-15\", \"2020-09-16\", \"2020-09-17\", \"2020-09-18\", \"2020-09-19\", \"2020-09-20\", \"2020-09-21\", \"2020-09-22\", \"2020-09-23\", \"2020-09-24\", \"2020-09-25\", \"2020-09-26\", \"2020-09-27\", \"2020-09-28\", \"2020-09-29\", \"2020-09-30\", \"2020-10-01\", \"2020-10-02\", \"2020-10-03\", \"2020-10-04\", \"2020-10-05\", \"2020-10-06\", \"2020-10-07\", \"2020-10-08\", \"2020-10-09\", \"2020-10-10\", \"2020-10-11\", \"2020-10-12\", \"2020-10-13\", \"2020-10-14\", \"2020-10-15\", \"2020-10-16\", \"2020-10-17\", \"2020-10-18\", \"2020-10-19\", \"2020-10-20\", \"2020-10-21\", \"2020-10-22\", \"2020-10-23\", \"2020-10-24\", \"2020-10-25\", \"2020-10-26\", \"2020-10-27\", \"2020-10-28\", \"2020-10-29\", \"2020-10-30\", \"2020-10-31\", \"2020-11-01\", \"2020-11-02\", \"2020-11-03\", \"2020-11-04\", \"2020-11-05\", \"2020-11-06\", \"2020-11-07\", \"2020-11-08\", \"2020-11-09\", \"2020-11-10\", \"2020-11-11\", \"2020-11-12\", \"2020-11-13\", \"2020-11-14\", \"2020-11-15\", \"2020-11-16\", \"2020-11-17\", \"2020-11-18\", \"2020-11-19\", \"2020-11-20\", \"2020-11-21\", \"2020-11-22\", \"2020-11-23\", \"2020-11-24\", \"2020-11-25\", \"2020-11-26\", \"2020-11-27\", \"2020-11-28\", \"2020-11-29\", \"2020-11-30\", \"2020-12-01\", \"2020-12-02\", \"2020-12-03\", \"2020-12-04\", \"2020-12-05\", \"2020-12-06\", \"2020-12-07\", \"2020-12-08\", \"2020-12-09\", \"2020-12-10\", \"2020-12-11\", \"2020-12-12\", \"2020-12-13\", \"2020-12-14\", \"2020-12-15\", \"2020-12-16\", \"2020-12-17\", \"2020-12-18\", \"2020-12-19\", \"2020-12-20\", \"2020-12-21\", \"2020-12-22\", \"2020-12-23\", \"2020-12-24\", \"2020-12-25\", \"2020-12-26\", \"2020-12-27\", \"2020-12-28\", \"2020-12-29\", \"2020-12-30\", \"2020-12-31\", \"2021-01-01\", \"2021-01-02\", \"2021-01-03\", \"2021-01-04\", \"2021-01-05\", \"2021-01-06\", \"2021-01-07\", \"2021-01-08\", \"2021-01-09\", \"2021-01-10\", \"2021-01-11\", \"2021-01-12\", \"2021-01-13\", \"2021-01-14\", \"2021-01-15\", \"2021-01-16\", \"2021-01-17\", \"2021-01-18\", \"2021-01-19\", \"2021-01-20\", \"2021-01-21\", \"2021-01-22\", \"2021-01-23\", \"2021-01-24\", \"2021-01-25\", \"2021-01-26\", \"2021-01-27\", \"2021-01-28\", \"2021-01-29\", \"2021-01-30\", \"2021-01-31\", \"2021-02-01\", \"2021-02-02\", \"2021-02-03\", \"2021-02-04\", \"2021-02-05\", \"2021-02-06\", \"2021-02-07\", \"2021-02-08\", \"2021-02-09\", \"2021-02-10\", \"2021-02-11\", \"2021-02-12\", \"2021-02-13\", \"2021-02-14\", \"2021-02-15\", \"2021-02-16\", \"2021-02-17\", \"2021-02-18\", \"2021-02-19\", \"2021-02-20\", \"2021-02-21\", \"2021-02-22\", \"2021-02-23\", \"2021-02-24\", \"2021-02-25\", \"2021-02-26\", \"2021-02-27\", \"2021-02-28\", \"2021-03-01\", \"2021-03-02\", \"2021-03-03\", \"2021-03-04\", \"2021-03-05\", \"2021-03-06\", \"2021-03-07\", \"2021-03-08\", \"2021-03-09\", \"2021-03-10\", \"2021-03-11\", \"2021-03-12\", \"2021-03-13\", \"2021-03-14\", \"2021-03-15\", \"2021-03-16\", \"2021-03-17\", \"2021-03-18\", \"2021-03-19\", \"2021-03-20\", \"2021-03-21\", \"2021-03-22\", \"2021-03-23\", \"2021-03-24\", \"2021-03-25\", \"2021-03-26\", \"2021-03-27\", \"2021-03-28\", \"2021-03-29\", \"2021-03-30\", \"2021-03-31\", \"2021-04-01\", \"2021-04-02\", \"2021-04-03\", \"2021-04-04\", \"2021-04-05\", \"2021-04-06\", \"2021-04-07\", \"2021-04-08\", \"2021-04-09\", \"2021-04-10\", \"2021-04-11\", \"2021-04-12\", \"2021-04-13\", \"2021-04-14\", \"2021-04-15\", \"2021-04-16\", \"2021-04-17\", \"2021-04-18\", \"2021-04-19\", \"2021-04-20\", \"2021-04-21\", \"2021-04-22\", \"2021-04-23\", \"2021-04-24\", \"2021-04-25\", \"2021-04-26\", \"2021-04-27\", \"2021-04-28\", \"2021-04-29\", \"2021-04-30\", \"2021-05-01\", \"2021-05-02\", \"2021-05-03\", \"2021-05-04\", \"2021-05-05\", \"2021-05-06\", \"2021-05-07\", \"2021-05-08\", \"2021-05-09\", \"2021-05-10\", \"2021-05-11\", \"2021-05-12\", \"2021-05-13\", \"2021-05-14\", \"2021-05-15\", \"2021-05-16\", \"2021-05-17\", \"2021-05-18\", \"2021-05-19\", \"2021-05-20\", \"2021-05-21\", \"2021-05-22\", \"2021-05-23\", \"2021-05-24\", \"2021-05-25\", \"2021-05-26\", \"2021-05-27\", \"2021-05-28\", \"2021-05-29\", \"2021-05-30\", \"2021-05-31\"], \"y\": [0, 0, 2, 0, 0, 0, 0, 0, 0, 0, 0, 0, 0, 0, 0, 0, 0, 0, 0, 0, 1, 1, 2, 5, 7, 10, 12, 13, 13, 17, 18, 22, 28, 32, 35, 42, 44, 50, 51, 54, 60, 66, 67, 72, 75, 75, 81, 84, 91, 94, 102, 104, 111, 120, 126, 131, 139, 144, 152, 158, 162, 165, 169, 174, 177, 183, 186, 192, 200, 204, 208, 211, 214, 217, 222, 225, 229, 230, 232, 234, 236, 237, 238, 240, 240, 240, 242, 243, 244, 246, 247, 248, 250, 250, 252, 254, 255, 256, 256, 256, 256, 256, 258, 259, 260, 260, 262, 262, 263, 263, 263, 264, 264, 266, 266, 267, 269, 269, 269, 269, 269, 270, 271, 272, 273, 273, 273, 273, 273, 273, 274, 276, 276, 277, 277, 277, 277, 278, 279, 280, 280, 280, 280, 280, 281, 281, 282, 282, 282, 282, 282, 282, 282, 282, 282, 283, 283, 284, 285, 285, 287, 288, 288, 289, 289, 289, 289, 291, 293, 294, 295, 296, 296, 297, 297, 298, 298, 298, 299, 300, 300, 300, 301, 301, 301, 301, 301, 302, 302, 303, 304, 305, 305, 305, 305, 305, 305, 305, 305, 305, 306, 306, 307, 309, 309, 309, 309, 310, 312, 313, 316, 321, 323, 324, 324, 326, 329, 331, 333, 334, 336, 341, 344, 346, 350, 355, 358, 363, 367, 367, 372, 377, 378, 383, 385, 388, 388, 393, 395, 399, 401, 406, 407, 413, 415, 416, 420, 421, 422, 422, 425, 427, 428, 430, 432, 433, 434, 438, 439, 441, 443, 444, 444, 447, 450, 453, 455, 457, 457, 457, 460, 461, 462, 463, 464, 466, 468, 472, 474, 475, 476, 477, 478, 480, 485, 487, 487, 488, 492, 493, 494, 494, 496, 498, 501, 503, 505, 509, 510, 513, 515, 516, 522, 523, 526, 526, 526, 529, 536, 540, 545, 549, 552, 556, 564, 572, 578, 580, 587, 600, 612, 634, 645, 659, 674, 698, 722, 739, 756, 773, 793, 808, 819, 859, 879, 900, 917, 942, 962, 981, 1007, 1027, 1046, 1081, 1100, 1125, 1140, 1165, 1185, 1195, 1217, 1236, 1249, 1264, 1283, 1300, 1316, 1328, 1337, 1349, 1360, 1371, 1378, 1386, 1399, 1414, 1420, 1425, 1435, 1441, 1448, 1459, 1464, 1471, 1474, 1482, 1486, 1496, 1507, 1514, 1522, 1527, 1534, 1538, 1544, 1550, 1553, 1557, 1562, 1573, 1576, 1581, 1585, 1595, 1603, 1605, 1606, 1612, 1619, 1627, 1632, 1634, 1642, 1645, 1648, 1652, 1662, 1667, 1669, 1675, 1678, 1686, 1688, 1690, 1693, 1696, 1697, 1704, 1707, 1709, 1716, 1721, 1722, 1726, 1729, 1731, 1735, 1737, 1740, 1744, 1748, 1752, 1756, 1758, 1764, 1765, 1768, 1770, 1775, 1782, 1788, 1790, 1794, 1797, 1801, 1802, 1806, 1808, 1811, 1812, 1813, 1817, 1820, 1821, 1825, 1828, 1831, 1833, 1834, 1840, 1847, 1851, 1860, 1865, 1874, 1875, 1879, 1884, 1891, 1893, 1896, 1900, 1903, 1904, 1912, 1916, 1922, 1926, 1931, 1934, 1938, 1940, 1943, 1946, 1951, 1957, 1959], \"yaxis\": \"y\"}, {\"marker\": {\"color\": \"#E80BCD\"}, \"name\": \"\\uc77c\\uc790\\ubcc4 \\ud655\\uc9c4\\uc790 \\uc218(\\uc804\\uad6d)\", \"type\": \"bar\", \"x\": [\"2020-01-01\", \"2020-02-01\", \"2020-02-02\", \"2020-02-03\", \"2020-02-04\", \"2020-02-05\", \"2020-02-06\", \"2020-02-07\", \"2020-02-08\", \"2020-02-09\", \"2020-02-10\", \"2020-02-11\", \"2020-02-12\", \"2020-02-13\", \"2020-02-14\", \"2020-02-15\", \"2020-02-16\", \"2020-02-17\", \"2020-02-18\", \"2020-02-19\", \"2020-02-20\", \"2020-02-21\", \"2020-02-22\", \"2020-02-23\", \"2020-02-24\", \"2020-02-25\", \"2020-02-26\", \"2020-02-27\", \"2020-02-28\", \"2020-02-29\", \"2020-03-01\", \"2020-03-02\", \"2020-03-03\", \"2020-03-04\", \"2020-03-05\", \"2020-03-06\", \"2020-03-07\", \"2020-03-08\", \"2020-03-09\", \"2020-03-10\", \"2020-03-11\", \"2020-03-12\", \"2020-03-13\", \"2020-03-14\", \"2020-03-15\", \"2020-03-16\", \"2020-03-17\", \"2020-03-18\", \"2020-03-19\", \"2020-03-20\", \"2020-03-21\", \"2020-03-22\", \"2020-03-23\", \"2020-03-24\", \"2020-03-25\", \"2020-03-26\", \"2020-03-27\", \"2020-03-28\", \"2020-03-29\", \"2020-03-30\", \"2020-03-31\", \"2020-04-01\", \"2020-04-02\", \"2020-04-03\", \"2020-04-04\", \"2020-04-05\", \"2020-04-06\", \"2020-04-07\", \"2020-04-08\", \"2020-04-09\", \"2020-04-10\", \"2020-04-11\", \"2020-04-12\", \"2020-04-13\", \"2020-04-14\", \"2020-04-15\", \"2020-04-16\", \"2020-04-17\", \"2020-04-18\", \"2020-04-19\", \"2020-04-20\", \"2020-04-21\", \"2020-04-22\", \"2020-04-23\", \"2020-04-24\", \"2020-04-25\", \"2020-04-26\", \"2020-04-27\", \"2020-04-28\", \"2020-04-29\", \"2020-04-30\", \"2020-05-01\", \"2020-05-02\", \"2020-05-03\", \"2020-05-04\", \"2020-05-05\", \"2020-05-06\", \"2020-05-07\", \"2020-05-08\", \"2020-05-09\", \"2020-05-10\", \"2020-05-11\", \"2020-05-12\", \"2020-05-13\", \"2020-05-14\", \"2020-05-15\", \"2020-05-16\", \"2020-05-17\", \"2020-05-18\", \"2020-05-19\", \"2020-05-20\", \"2020-05-21\", \"2020-05-22\", \"2020-05-23\", \"2020-05-24\", \"2020-05-25\", \"2020-05-26\", \"2020-05-27\", \"2020-05-28\", \"2020-05-29\", \"2020-05-30\", \"2020-05-31\", \"2020-06-01\", \"2020-06-02\", \"2020-06-03\", \"2020-06-04\", \"2020-06-05\", \"2020-06-06\", \"2020-06-07\", \"2020-06-08\", \"2020-06-09\", \"2020-06-10\", \"2020-06-11\", \"2020-06-12\", \"2020-06-13\", \"2020-06-14\", \"2020-06-15\", \"2020-06-16\", \"2020-06-17\", \"2020-06-18\", \"2020-06-19\", \"2020-06-20\", \"2020-06-21\", \"2020-06-22\", \"2020-06-23\", \"2020-06-24\", \"2020-06-25\", \"2020-06-26\", \"2020-06-27\", \"2020-06-28\", \"2020-06-29\", \"2020-06-30\", \"2020-07-01\", \"2020-07-02\", \"2020-07-03\", \"2020-07-04\", \"2020-07-05\", \"2020-07-06\", \"2020-07-07\", \"2020-07-08\", \"2020-07-09\", \"2020-07-10\", \"2020-07-11\", \"2020-07-12\", \"2020-07-13\", \"2020-07-14\", \"2020-07-15\", \"2020-07-16\", \"2020-07-17\", \"2020-07-18\", \"2020-07-19\", \"2020-07-20\", \"2020-07-21\", \"2020-07-22\", \"2020-07-23\", \"2020-07-24\", \"2020-07-25\", \"2020-07-26\", \"2020-07-27\", \"2020-07-28\", \"2020-07-29\", \"2020-07-30\", \"2020-07-31\", \"2020-08-01\", \"2020-08-02\", \"2020-08-03\", \"2020-08-04\", \"2020-08-05\", \"2020-08-06\", \"2020-08-07\", \"2020-08-08\", \"2020-08-09\", \"2020-08-10\", \"2020-08-11\", \"2020-08-12\", \"2020-08-13\", \"2020-08-14\", \"2020-08-15\", \"2020-08-16\", \"2020-08-17\", \"2020-08-18\", \"2020-08-19\", \"2020-08-20\", \"2020-08-21\", \"2020-08-22\", \"2020-08-23\", \"2020-08-24\", \"2020-08-25\", \"2020-08-26\", \"2020-08-27\", \"2020-08-28\", \"2020-08-29\", \"2020-08-30\", \"2020-08-31\", \"2020-09-01\", \"2020-09-02\", \"2020-09-03\", \"2020-09-04\", \"2020-09-05\", \"2020-09-06\", \"2020-09-07\", \"2020-09-08\", \"2020-09-09\", \"2020-09-10\", \"2020-09-11\", \"2020-09-12\", \"2020-09-13\", \"2020-09-14\", \"2020-09-15\", \"2020-09-16\", \"2020-09-17\", \"2020-09-18\", \"2020-09-19\", \"2020-09-20\", \"2020-09-21\", \"2020-09-22\", \"2020-09-23\", \"2020-09-24\", \"2020-09-25\", \"2020-09-26\", \"2020-09-27\", \"2020-09-28\", \"2020-09-29\", \"2020-09-30\", \"2020-10-01\", \"2020-10-02\", \"2020-10-03\", \"2020-10-04\", \"2020-10-05\", \"2020-10-06\", \"2020-10-07\", \"2020-10-08\", \"2020-10-09\", \"2020-10-10\", \"2020-10-11\", \"2020-10-12\", \"2020-10-13\", \"2020-10-14\", \"2020-10-15\", \"2020-10-16\", \"2020-10-17\", \"2020-10-18\", \"2020-10-19\", \"2020-10-20\", \"2020-10-21\", \"2020-10-22\", \"2020-10-23\", \"2020-10-24\", \"2020-10-25\", \"2020-10-26\", \"2020-10-27\", \"2020-10-28\", \"2020-10-29\", \"2020-10-30\", \"2020-10-31\", \"2020-11-01\", \"2020-11-02\", \"2020-11-03\", \"2020-11-04\", \"2020-11-05\", \"2020-11-06\", \"2020-11-07\", \"2020-11-08\", \"2020-11-09\", \"2020-11-10\", \"2020-11-11\", \"2020-11-12\", \"2020-11-13\", \"2020-11-14\", \"2020-11-15\", \"2020-11-16\", \"2020-11-17\", \"2020-11-18\", \"2020-11-19\", \"2020-11-20\", \"2020-11-21\", \"2020-11-22\", \"2020-11-23\", \"2020-11-24\", \"2020-11-25\", \"2020-11-26\", \"2020-11-27\", \"2020-11-28\", \"2020-11-29\", \"2020-11-30\", \"2020-12-01\", \"2020-12-02\", \"2020-12-03\", \"2020-12-04\", \"2020-12-05\", \"2020-12-06\", \"2020-12-07\", \"2020-12-08\", \"2020-12-09\", \"2020-12-10\", \"2020-12-11\", \"2020-12-12\", \"2020-12-13\", \"2020-12-14\", \"2020-12-15\", \"2020-12-16\", \"2020-12-17\", \"2020-12-18\", \"2020-12-19\", \"2020-12-20\", \"2020-12-21\", \"2020-12-22\", \"2020-12-23\", \"2020-12-24\", \"2020-12-25\", \"2020-12-26\", \"2020-12-27\", \"2020-12-28\", \"2020-12-29\", \"2020-12-30\", \"2020-12-31\", \"2021-01-01\", \"2021-01-02\", \"2021-01-03\", \"2021-01-04\", \"2021-01-05\", \"2021-01-06\", \"2021-01-07\", \"2021-01-08\", \"2021-01-09\", \"2021-01-10\", \"2021-01-11\", \"2021-01-12\", \"2021-01-13\", \"2021-01-14\", \"2021-01-15\", \"2021-01-16\", \"2021-01-17\", \"2021-01-18\", \"2021-01-19\", \"2021-01-20\", \"2021-01-21\", \"2021-01-22\", \"2021-01-23\", \"2021-01-24\", \"2021-01-25\", \"2021-01-26\", \"2021-01-27\", \"2021-01-28\", \"2021-01-29\", \"2021-01-30\", \"2021-01-31\", \"2021-02-01\", \"2021-02-02\", \"2021-02-03\", \"2021-02-04\", \"2021-02-05\", \"2021-02-06\", \"2021-02-07\", \"2021-02-08\", \"2021-02-09\", \"2021-02-10\", \"2021-02-11\", \"2021-02-12\", \"2021-02-13\", \"2021-02-14\", \"2021-02-15\", \"2021-02-16\", \"2021-02-17\", \"2021-02-18\", \"2021-02-19\", \"2021-02-20\", \"2021-02-21\", \"2021-02-22\", \"2021-02-23\", \"2021-02-24\", \"2021-02-25\", \"2021-02-26\", \"2021-02-27\", \"2021-02-28\", \"2021-03-01\", \"2021-03-02\", \"2021-03-03\", \"2021-03-04\", \"2021-03-05\", \"2021-03-06\", \"2021-03-07\", \"2021-03-08\", \"2021-03-09\", \"2021-03-10\", \"2021-03-11\", \"2021-03-12\", \"2021-03-13\", \"2021-03-14\", \"2021-03-15\", \"2021-03-16\", \"2021-03-17\", \"2021-03-18\", \"2021-03-19\", \"2021-03-20\", \"2021-03-21\", \"2021-03-22\", \"2021-03-23\", \"2021-03-24\", \"2021-03-25\", \"2021-03-26\", \"2021-03-27\", \"2021-03-28\", \"2021-03-29\", \"2021-03-30\", \"2021-03-31\", \"2021-04-01\", \"2021-04-02\", \"2021-04-03\", \"2021-04-04\", \"2021-04-05\", \"2021-04-06\", \"2021-04-07\", \"2021-04-08\", \"2021-04-09\", \"2021-04-10\", \"2021-04-11\", \"2021-04-12\", \"2021-04-13\", \"2021-04-14\", \"2021-04-15\", \"2021-04-16\", \"2021-04-17\", \"2021-04-18\", \"2021-04-19\", \"2021-04-20\", \"2021-04-21\", \"2021-04-22\", \"2021-04-23\", \"2021-04-24\", \"2021-04-25\", \"2021-04-26\", \"2021-04-27\", \"2021-04-28\", \"2021-04-29\", \"2021-04-30\", \"2021-05-01\", \"2021-05-02\", \"2021-05-03\", \"2021-05-04\", \"2021-05-05\", \"2021-05-06\", \"2021-05-07\", \"2021-05-08\", \"2021-05-09\", \"2021-05-10\", \"2021-05-11\", \"2021-05-12\", \"2021-05-13\", \"2021-05-14\", \"2021-05-15\", \"2021-05-16\", \"2021-05-17\", \"2021-05-18\", \"2021-05-19\", \"2021-05-20\", \"2021-05-21\", \"2021-05-22\", \"2021-05-23\", \"2021-05-24\", \"2021-05-25\", \"2021-05-26\", \"2021-05-27\", \"2021-05-28\", \"2021-05-29\", \"2021-05-30\", \"2021-05-31\"], \"y\": [null, 0.0, 2.0, 13.0, -15.0, 19.0, 4.0, 1.0, 0.0, 3.0, 0.0, 1.0, 0.0, 0.0, 0.0, 0.0, 1.0, 1.0, 1.0, 20.0, 53.0, 100.0, 229.0, 169.0, 231.0, 144.0, 284.0, 505.0, 571.0, 813.0, 586.0, 476.0, 600.0, 516.0, 438.0, 518.0, 483.0, 367.0, 248.0, 131.0, 242.0, 114.0, 110.0, 107.0, 76.0, 74.0, 84.0, 93.0, 152.0, 87.0, 147.0, 98.0, 64.0, 76.0, 100.0, 104.0, 91.0, 146.0, 105.0, 78.0, 125.0, 101.0, 89.0, 86.0, 94.0, 81.0, 47.0, 47.0, 53.0, 39.0, 27.0, 30.0, 32.0, 25.0, 27.0, 27.0, 22.0, 22.0, 18.0, 8.0, 13.0, 9.0, 11.0, 8.0, 6.0, 10.0, 10.0, 10.0, 14.0, 9.0, 4.0, 9.0, 6.0, 13.0, 8.0, 3.0, 2.0, 4.0, 12.0, 18.0, 34.0, 35.0, 27.0, 26.0, 29.0, 27.0, 19.0, 13.0, 15.0, 13.0, 32.0, 12.0, 20.0, 23.0, 25.0, 16.0, 19.0, 40.0, 79.0, 58.0, 39.0, 27.0, 35.0, 38.0, 49.0, 39.0, 39.0, 51.0, 57.0, 37.0, 38.0, 50.0, 45.0, 56.0, 48.0, 34.0, 37.0, 34.0, 43.0, 59.0, 49.0, 67.0, 48.0, 17.0, 46.0, 51.0, 28.0, 39.0, 51.0, 62.0, 42.0, 42.0, 51.0, 54.0, 61.0, 63.0, 61.0, 48.0, 44.0, 62.0, 50.0, 45.0, 35.0, 44.0, 62.0, 33.0, 39.0, 61.0, 60.0, 39.0, 34.0, 26.0, 45.0, 63.0, 59.0, 41.0, 113.0, 58.0, 25.0, 28.0, 48.0, 18.0, 36.0, 31.0, 30.0, 23.0, 34.0, 33.0, 43.0, 20.0, 43.0, 36.0, 28.0, 34.0, 54.0, 56.0, 103.0, 166.0, 279.0, 197.0, 246.0, 297.0, 288.0, 324.0, 332.0, 396.0, 266.0, 280.0, 320.0, 441.0, 371.0, 323.0, 299.0, 248.0, 235.0, 267.0, 195.0, 198.0, 168.0, 167.0, 119.0, 136.0, 156.0, 155.0, 176.0, 136.0, 121.0, 109.0, 106.0, 113.0, 153.0, 126.0, 110.0, 82.0, 70.0, 61.0, 110.0, 125.0, 114.0, 61.0, 95.0, 50.0, 38.0, 113.0, 77.0, 63.0, 75.0, 64.0, 73.0, 75.0, 114.0, 69.0, 54.0, 72.0, 58.0, 98.0, 102.0, 73.0, 110.0, 47.0, 73.0, 91.0, 76.0, 58.0, 89.0, 121.0, 155.0, 77.0, 61.0, 119.0, 88.0, 103.0, 125.0, 113.0, 127.0, 124.0, 97.0, 75.0, 117.0, 125.0, 145.0, 89.0, 143.0, 126.0, 100.0, 145.0, 143.0, 191.0, 205.0, 208.0, 222.0, 230.0, 285.0, 325.0, 348.0, 386.0, 330.0, 271.0, 349.0, 382.0, 581.0, 555.0, 503.0, 450.0, 438.0, 451.0, 511.0, 540.0, 628.0, 577.0, 631.0, 615.0, 726.0, 531.0, 680.0, 689.0, 950.0, 1030.0, 718.0, 880.0, 1078.0, 1014.0, 1064.0, 1045.0, 1097.0, 924.0, 866.0, 1090.0, 985.0, 1240.0, 1131.0, 970.0, 806.0, 1044.0, 1050.0, 967.0, 1027.0, 820.0, 657.0, 1020.0, 714.0, 838.0, 869.0, 674.0, 641.0, 657.0, 451.0, 537.0, 561.0, 524.0, 512.0, 580.0, 520.0, 389.0, 386.0, 404.0, 400.0, 346.0, 431.0, 392.0, 437.0, 349.0, 559.0, 497.0, 469.0, 456.0, 354.0, 305.0, 336.0, 467.0, 451.0, 370.0, 390.0, 371.0, 288.0, 303.0, 444.0, 504.0, 403.0, 362.0, 326.0, 343.0, 457.0, 621.0, 621.0, 561.0, 449.0, 415.0, 332.0, 356.0, 440.0, 395.0, 387.0, 415.0, 355.0, 355.0, 344.0, 444.0, 424.0, 398.0, 418.0, 416.0, 346.0, 446.0, 470.0, 465.0, 488.0, 490.0, 459.0, 379.0, 363.0, 469.0, 445.0, 463.0, 447.0, 456.0, 415.0, 346.0, 428.0, 430.0, 489.0, 505.0, 482.0, 382.0, 447.0, 506.0, 551.0, 557.0, 543.0, 542.0, 474.0, 477.0, 668.0, 700.0, 671.0, 677.0, 614.0, 587.0, 542.0, 731.0, 698.0, 673.0, 658.0, 671.0, 532.0, 549.0, 731.0, 735.0, 797.0, 785.0, 644.0, 499.0, 512.0, 768.0, 680.0, 661.0, 627.0, 606.0, 488.0, 541.0, 676.0, 574.0, 525.0, 701.0, 564.0, 463.0, 510.0, 636.0, 715.0, 747.0, 681.0, 610.0, 619.0, 528.0, 653.0, 646.0, 561.0, 666.0, 585.0, 530.0, 516.0, 699.0, 637.0, 587.0, 533.0, 479.0, 430.0], \"yaxis\": \"y2\"}],\n",
              "                        {\"dragmode\": \"zoom\", \"height\": 700, \"hovermode\": \"x\", \"margin\": {\"b\": 100, \"t\": 100}, \"shapes\": [{\"fillcolor\": \"rgba(211, 211, 211, 0.3)\", \"line\": {\"width\": 0}, \"type\": \"rect\", \"x0\": \"2020-12-14\", \"x1\": \"2021-01-05\", \"xref\": \"x\", \"y0\": 0, \"y1\": 0.95, \"yref\": \"paper\"}], \"template\": {\"data\": {\"bar\": [{\"error_x\": {\"color\": \"#f2f5fa\"}, \"error_y\": {\"color\": \"#f2f5fa\"}, \"marker\": {\"line\": {\"color\": \"rgb(17,17,17)\", \"width\": 0.5}}, \"type\": \"bar\"}], \"barpolar\": [{\"marker\": {\"line\": {\"color\": \"rgb(17,17,17)\", \"width\": 0.5}}, \"type\": \"barpolar\"}], \"carpet\": [{\"aaxis\": {\"endlinecolor\": \"#A2B1C6\", \"gridcolor\": \"#506784\", \"linecolor\": \"#506784\", \"minorgridcolor\": \"#506784\", \"startlinecolor\": \"#A2B1C6\"}, \"baxis\": {\"endlinecolor\": \"#A2B1C6\", \"gridcolor\": \"#506784\", \"linecolor\": \"#506784\", \"minorgridcolor\": \"#506784\", \"startlinecolor\": \"#A2B1C6\"}, \"type\": \"carpet\"}], \"choropleth\": [{\"colorbar\": {\"outlinewidth\": 0, \"ticks\": \"\"}, \"type\": \"choropleth\"}], \"contour\": [{\"colorbar\": {\"outlinewidth\": 0, \"ticks\": \"\"}, \"colorscale\": [[0.0, \"#0d0887\"], [0.1111111111111111, \"#46039f\"], [0.2222222222222222, \"#7201a8\"], [0.3333333333333333, \"#9c179e\"], [0.4444444444444444, \"#bd3786\"], [0.5555555555555556, \"#d8576b\"], [0.6666666666666666, \"#ed7953\"], [0.7777777777777778, \"#fb9f3a\"], [0.8888888888888888, \"#fdca26\"], [1.0, \"#f0f921\"]], \"type\": \"contour\"}], \"contourcarpet\": [{\"colorbar\": {\"outlinewidth\": 0, \"ticks\": \"\"}, \"type\": \"contourcarpet\"}], \"heatmap\": [{\"colorbar\": {\"outlinewidth\": 0, \"ticks\": \"\"}, \"colorscale\": [[0.0, \"#0d0887\"], [0.1111111111111111, \"#46039f\"], [0.2222222222222222, \"#7201a8\"], [0.3333333333333333, \"#9c179e\"], [0.4444444444444444, \"#bd3786\"], [0.5555555555555556, \"#d8576b\"], [0.6666666666666666, \"#ed7953\"], [0.7777777777777778, \"#fb9f3a\"], [0.8888888888888888, \"#fdca26\"], [1.0, \"#f0f921\"]], \"type\": \"heatmap\"}], \"heatmapgl\": [{\"colorbar\": {\"outlinewidth\": 0, \"ticks\": \"\"}, \"colorscale\": [[0.0, \"#0d0887\"], [0.1111111111111111, \"#46039f\"], [0.2222222222222222, \"#7201a8\"], [0.3333333333333333, \"#9c179e\"], [0.4444444444444444, \"#bd3786\"], [0.5555555555555556, \"#d8576b\"], [0.6666666666666666, \"#ed7953\"], [0.7777777777777778, \"#fb9f3a\"], [0.8888888888888888, \"#fdca26\"], [1.0, \"#f0f921\"]], \"type\": \"heatmapgl\"}], \"histogram\": [{\"marker\": {\"colorbar\": {\"outlinewidth\": 0, \"ticks\": \"\"}}, \"type\": \"histogram\"}], \"histogram2d\": [{\"colorbar\": {\"outlinewidth\": 0, \"ticks\": \"\"}, \"colorscale\": [[0.0, \"#0d0887\"], [0.1111111111111111, \"#46039f\"], [0.2222222222222222, \"#7201a8\"], [0.3333333333333333, \"#9c179e\"], [0.4444444444444444, \"#bd3786\"], [0.5555555555555556, \"#d8576b\"], [0.6666666666666666, \"#ed7953\"], [0.7777777777777778, \"#fb9f3a\"], [0.8888888888888888, \"#fdca26\"], [1.0, \"#f0f921\"]], \"type\": \"histogram2d\"}], \"histogram2dcontour\": [{\"colorbar\": {\"outlinewidth\": 0, \"ticks\": \"\"}, \"colorscale\": [[0.0, \"#0d0887\"], [0.1111111111111111, \"#46039f\"], [0.2222222222222222, \"#7201a8\"], [0.3333333333333333, \"#9c179e\"], [0.4444444444444444, \"#bd3786\"], [0.5555555555555556, \"#d8576b\"], [0.6666666666666666, \"#ed7953\"], [0.7777777777777778, \"#fb9f3a\"], [0.8888888888888888, \"#fdca26\"], [1.0, \"#f0f921\"]], \"type\": \"histogram2dcontour\"}], \"mesh3d\": [{\"colorbar\": {\"outlinewidth\": 0, \"ticks\": \"\"}, \"type\": \"mesh3d\"}], \"parcoords\": [{\"line\": {\"colorbar\": {\"outlinewidth\": 0, \"ticks\": \"\"}}, \"type\": \"parcoords\"}], \"pie\": [{\"automargin\": true, \"type\": \"pie\"}], \"scatter\": [{\"marker\": {\"line\": {\"color\": \"#283442\"}}, \"type\": \"scatter\"}], \"scatter3d\": [{\"line\": {\"colorbar\": {\"outlinewidth\": 0, \"ticks\": \"\"}}, \"marker\": {\"colorbar\": {\"outlinewidth\": 0, \"ticks\": \"\"}}, \"type\": \"scatter3d\"}], \"scattercarpet\": [{\"marker\": {\"colorbar\": {\"outlinewidth\": 0, \"ticks\": \"\"}}, \"type\": \"scattercarpet\"}], \"scattergeo\": [{\"marker\": {\"colorbar\": {\"outlinewidth\": 0, \"ticks\": \"\"}}, \"type\": \"scattergeo\"}], \"scattergl\": [{\"marker\": {\"line\": {\"color\": \"#283442\"}}, \"type\": \"scattergl\"}], \"scattermapbox\": [{\"marker\": {\"colorbar\": {\"outlinewidth\": 0, \"ticks\": \"\"}}, \"type\": \"scattermapbox\"}], \"scatterpolar\": [{\"marker\": {\"colorbar\": {\"outlinewidth\": 0, \"ticks\": \"\"}}, \"type\": \"scatterpolar\"}], \"scatterpolargl\": [{\"marker\": {\"colorbar\": {\"outlinewidth\": 0, \"ticks\": \"\"}}, \"type\": \"scatterpolargl\"}], \"scatterternary\": [{\"marker\": {\"colorbar\": {\"outlinewidth\": 0, \"ticks\": \"\"}}, \"type\": \"scatterternary\"}], \"surface\": [{\"colorbar\": {\"outlinewidth\": 0, \"ticks\": \"\"}, \"colorscale\": [[0.0, \"#0d0887\"], [0.1111111111111111, \"#46039f\"], [0.2222222222222222, \"#7201a8\"], [0.3333333333333333, \"#9c179e\"], [0.4444444444444444, \"#bd3786\"], [0.5555555555555556, \"#d8576b\"], [0.6666666666666666, \"#ed7953\"], [0.7777777777777778, \"#fb9f3a\"], [0.8888888888888888, \"#fdca26\"], [1.0, \"#f0f921\"]], \"type\": \"surface\"}], \"table\": [{\"cells\": {\"fill\": {\"color\": \"#506784\"}, \"line\": {\"color\": \"rgb(17,17,17)\"}}, \"header\": {\"fill\": {\"color\": \"#2a3f5f\"}, \"line\": {\"color\": \"rgb(17,17,17)\"}}, \"type\": \"table\"}]}, \"layout\": {\"annotationdefaults\": {\"arrowcolor\": \"#f2f5fa\", \"arrowhead\": 0, \"arrowwidth\": 1}, \"coloraxis\": {\"colorbar\": {\"outlinewidth\": 0, \"ticks\": \"\"}}, \"colorscale\": {\"diverging\": [[0, \"#8e0152\"], [0.1, \"#c51b7d\"], [0.2, \"#de77ae\"], [0.3, \"#f1b6da\"], [0.4, \"#fde0ef\"], [0.5, \"#f7f7f7\"], [0.6, \"#e6f5d0\"], [0.7, \"#b8e186\"], [0.8, \"#7fbc41\"], [0.9, \"#4d9221\"], [1, \"#276419\"]], \"sequential\": [[0.0, \"#0d0887\"], [0.1111111111111111, \"#46039f\"], [0.2222222222222222, \"#7201a8\"], [0.3333333333333333, \"#9c179e\"], [0.4444444444444444, \"#bd3786\"], [0.5555555555555556, \"#d8576b\"], [0.6666666666666666, \"#ed7953\"], [0.7777777777777778, \"#fb9f3a\"], [0.8888888888888888, \"#fdca26\"], [1.0, \"#f0f921\"]], \"sequentialminus\": [[0.0, \"#0d0887\"], [0.1111111111111111, \"#46039f\"], [0.2222222222222222, \"#7201a8\"], [0.3333333333333333, \"#9c179e\"], [0.4444444444444444, \"#bd3786\"], [0.5555555555555556, \"#d8576b\"], [0.6666666666666666, \"#ed7953\"], [0.7777777777777778, \"#fb9f3a\"], [0.8888888888888888, \"#fdca26\"], [1.0, \"#f0f921\"]]}, \"colorway\": [\"#636efa\", \"#EF553B\", \"#00cc96\", \"#ab63fa\", \"#FFA15A\", \"#19d3f3\", \"#FF6692\", \"#B6E880\", \"#FF97FF\", \"#FECB52\"], \"font\": {\"color\": \"#f2f5fa\"}, \"geo\": {\"bgcolor\": \"rgb(17,17,17)\", \"lakecolor\": \"rgb(17,17,17)\", \"landcolor\": \"rgb(17,17,17)\", \"showlakes\": true, \"showland\": true, \"subunitcolor\": \"#506784\"}, \"hoverlabel\": {\"align\": \"left\"}, \"hovermode\": \"closest\", \"mapbox\": {\"style\": \"dark\"}, \"paper_bgcolor\": \"rgb(17,17,17)\", \"plot_bgcolor\": \"rgb(17,17,17)\", \"polar\": {\"angularaxis\": {\"gridcolor\": \"#506784\", \"linecolor\": \"#506784\", \"ticks\": \"\"}, \"bgcolor\": \"rgb(17,17,17)\", \"radialaxis\": {\"gridcolor\": \"#506784\", \"linecolor\": \"#506784\", \"ticks\": \"\"}}, \"scene\": {\"xaxis\": {\"backgroundcolor\": \"rgb(17,17,17)\", \"gridcolor\": \"#506784\", \"gridwidth\": 2, \"linecolor\": \"#506784\", \"showbackground\": true, \"ticks\": \"\", \"zerolinecolor\": \"#C8D4E3\"}, \"yaxis\": {\"backgroundcolor\": \"rgb(17,17,17)\", \"gridcolor\": \"#506784\", \"gridwidth\": 2, \"linecolor\": \"#506784\", \"showbackground\": true, \"ticks\": \"\", \"zerolinecolor\": \"#C8D4E3\"}, \"zaxis\": {\"backgroundcolor\": \"rgb(17,17,17)\", \"gridcolor\": \"#506784\", \"gridwidth\": 2, \"linecolor\": \"#506784\", \"showbackground\": true, \"ticks\": \"\", \"zerolinecolor\": \"#C8D4E3\"}}, \"shapedefaults\": {\"line\": {\"color\": \"#f2f5fa\"}}, \"sliderdefaults\": {\"bgcolor\": \"#C8D4E3\", \"bordercolor\": \"rgb(17,17,17)\", \"borderwidth\": 1, \"tickwidth\": 0}, \"ternary\": {\"aaxis\": {\"gridcolor\": \"#506784\", \"linecolor\": \"#506784\", \"ticks\": \"\"}, \"baxis\": {\"gridcolor\": \"#506784\", \"linecolor\": \"#506784\", \"ticks\": \"\"}, \"bgcolor\": \"rgb(17,17,17)\", \"caxis\": {\"gridcolor\": \"#506784\", \"linecolor\": \"#506784\", \"ticks\": \"\"}}, \"title\": {\"x\": 0.05}, \"updatemenudefaults\": {\"bgcolor\": \"#506784\", \"borderwidth\": 0}, \"xaxis\": {\"automargin\": true, \"gridcolor\": \"#283442\", \"linecolor\": \"#506784\", \"ticks\": \"\", \"title\": {\"standoff\": 15}, \"zerolinecolor\": \"#283442\", \"zerolinewidth\": 2}, \"yaxis\": {\"automargin\": true, \"gridcolor\": \"#283442\", \"linecolor\": \"#506784\", \"ticks\": \"\", \"title\": {\"standoff\": 15}, \"zerolinecolor\": \"#283442\", \"zerolinewidth\": 2}}}, \"title\": {\"text\": \"\\uc77c\\uc790\\ubcc4 \\ucf54\\ub85c\\ub098 \\ud655\\uc9c4 \\ud604\\ud669\"}, \"xaxis\": {\"rangeslider\": {\"autorange\": true, \"range\": [\"2020-01-20\", \"2020-06-30\"], \"visible\": true}, \"type\": \"date\"}, \"yaxis\": {\"anchor\": \"x\", \"autorange\": true, \"domain\": [0, 0.5], \"linecolor\": \"#33AFFF\", \"mirror\": true, \"range\": [-60.0858369099, 28.4406294707], \"showline\": true, \"side\": \"right\", \"tickfont\": {\"color\": \"#33AFFF\"}, \"tickmode\": \"auto\", \"ticks\": \"\", \"title\": {\"font\": {\"color\": \"#33AFFF\"}}, \"type\": \"linear\", \"zeroline\": false}, \"yaxis2\": {\"anchor\": \"x\", \"autorange\": true, \"domain\": [0.5, 0.95], \"linecolor\": \"#E80BCD\", \"mirror\": true, \"range\": [29.3787777032, 100.621222297], \"showline\": true, \"side\": \"right\", \"tickfont\": {\"color\": \"#E80BCD\"}, \"tickmode\": \"auto\", \"ticks\": \"\", \"title\": {\"font\": {\"color\": \"#E80BCD\"}}, \"type\": \"linear\", \"zeroline\": false}},\n",
              "                        {\"responsive\": true}\n",
              "                    ).then(function(){\n",
              "                            \n",
              "var gd = document.getElementById('1a36bc2b-d01d-4236-ad57-c2df1d4f4563');\n",
              "var x = new MutationObserver(function (mutations, observer) {{\n",
              "        var display = window.getComputedStyle(gd).display;\n",
              "        if (!display || display === 'none') {{\n",
              "            console.log([gd, 'removed!']);\n",
              "            Plotly.purge(gd);\n",
              "            observer.disconnect();\n",
              "        }}\n",
              "}});\n",
              "\n",
              "// Listen for the removal of the full notebook cells\n",
              "var notebookContainer = gd.closest('#notebook-container');\n",
              "if (notebookContainer) {{\n",
              "    x.observe(notebookContainer, {childList: true});\n",
              "}}\n",
              "\n",
              "// Listen for the clearing of the current output cell\n",
              "var outputEl = gd.closest('.output');\n",
              "if (outputEl) {{\n",
              "    x.observe(outputEl, {childList: true});\n",
              "}}\n",
              "\n",
              "                        })\n",
              "                };\n",
              "                \n",
              "            </script>\n",
              "        </div>\n",
              "</body>\n",
              "</html>"
            ]
          },
          "metadata": {
            "tags": []
          }
        }
      ]
    },
    {
      "cell_type": "markdown",
      "metadata": {
        "id": "X7ACHu1EYnZl"
      },
      "source": [
        "코로나는 2020년 2월에 확진자 수가 급증하다 하락세를 보였고 이후 줄어들다 이태원 집담 감염 사태가 발생했던 5월을 기점으로 8월에 확진자수가 증가하였고 12월에 가장 많은 확진자수가 집계됐다. 그 이후 2021년에 상반기에도 일별 평균 300~500명의 확진자수를 기록하고 있다. "
      ]
    }
  ]
}
